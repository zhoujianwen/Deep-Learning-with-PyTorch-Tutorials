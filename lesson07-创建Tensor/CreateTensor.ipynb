{
 "cells": [
  {
   "cell_type": "code",
   "execution_count": 1,
   "metadata": {},
   "outputs": [],
   "source": [
    "#!/usr/bin/env python\n",
    "# -*- coding: utf-8 -*-\n",
    "# @Time    : 2020/3/12 14:03\n",
    "# @Author  : zhoujianwen\n",
    "# @Email   : zhou_jianwen@qq.com\n",
    "# @File    : CreateTensor.py\n",
    "# @Describe: 创建Tensor"
   ]
  },
  {
   "cell_type": "code",
   "execution_count": 2,
   "metadata": {},
   "outputs": [],
   "source": [
    "import numpy as np\n",
    "import torch\n",
    "\n",
    "a = np.array([2,3.3])"
   ]
  },
  {
   "cell_type": "code",
   "execution_count": 3,
   "metadata": {},
   "outputs": [
    {
     "name": "stdout",
     "output_type": "stream",
     "text": [
      "torch from numpy: tensor([2.0000, 3.3000], dtype=torch.float64)\n"
     ]
    }
   ],
   "source": [
    "# 从numpy导入的float其实是double类型\n",
    "print(\"torch from numpy:\",torch.from_numpy(a))"
   ]
  },
  {
   "cell_type": "code",
   "execution_count": 4,
   "metadata": {},
   "outputs": [
    {
     "name": "stdout",
     "output_type": "stream",
     "text": [
      "torch from numpy tensor([[1., 1., 1.],\n",
      "        [1., 1., 1.]], dtype=torch.float64)\n"
     ]
    }
   ],
   "source": [
    "# 创建一个二行三列的S元素全是的数组\n",
    "b = np.ones([2,3])\n",
    "print(\"torch from numpy\",torch.from_numpy(b))"
   ]
  },
  {
   "cell_type": "code",
   "execution_count": 5,
   "metadata": {},
   "outputs": [
    {
     "name": "stdout",
     "output_type": "stream",
     "text": [
      "c: tensor([2.0000, 3.2000])\n",
      "c: torch.FloatTensor\n"
     ]
    }
   ],
   "source": [
    "# 小写的tensor只能接受现成的数据\n",
    "c = torch.tensor([2.,3.2]) \n",
    "print(\"c:\",c)\n",
    "print(\"c:\",c.type())"
   ]
  },
  {
   "cell_type": "code",
   "execution_count": 6,
   "metadata": {},
   "outputs": [
    {
     "name": "stdout",
     "output_type": "stream",
     "text": [
      "d: tensor([[0.0000e+00, 4.1530e-05, 1.8754e+28],\n",
      "        [6.4978e-07, 4.1727e-08, 1.0129e-11]])\n",
      "d: torch.FloatTensor\n"
     ]
    }
   ],
   "source": [
    "# 大写的tensor接受数据的维度，也可以接受现成的数据\n",
    "d = torch.Tensor(2,3)  \n",
    "print(\"d:\",d)\n",
    "print(\"d:\",d.type())"
   ]
  },
  {
   "cell_type": "code",
   "execution_count": 7,
   "metadata": {},
   "outputs": [
    {
     "name": "stdout",
     "output_type": "stream",
     "text": [
      "e: tensor([[[[ 0.0000e+00,  0.0000e+00,  0.0000e+00,  0.0000e+00],\n",
      "          [ 0.0000e+00,  0.0000e+00,  0.0000e+00,  0.0000e+00],\n",
      "          [ 1.0000e+00,  0.0000e+00, -6.3164e-34,  8.7441e-43]],\n",
      "\n",
      "         [[ 0.0000e+00,  0.0000e+00,  0.0000e+00,  0.0000e+00],\n",
      "          [ 0.0000e+00,  0.0000e+00,  0.0000e+00,  0.0000e+00],\n",
      "          [ 9.8091e-45,  0.0000e+00,  1.1210e-44,  0.0000e+00]]],\n",
      "\n",
      "\n",
      "        [[[ 1.0000e+00,  0.0000e+00, -6.3167e-34,  8.7441e-43],\n",
      "          [ 0.0000e+00,  0.0000e+00,  0.0000e+00,  0.0000e+00],\n",
      "          [ 0.0000e+00,  0.0000e+00,  0.0000e+00,  0.0000e+00]],\n",
      "\n",
      "         [[ 9.8091e-45,  0.0000e+00,  1.1210e-44,  0.0000e+00],\n",
      "          [ 0.0000e+00,  0.0000e+00,  0.0000e+00,  0.0000e+00],\n",
      "          [ 0.0000e+00,  0.0000e+00,  1.4013e-45,  0.0000e+00]]]])\n",
      "e: torch.FloatTensor\n"
     ]
    }
   ],
   "source": [
    "# 四维的tensor比较适合处理图片数据类型，cnn:[b,c,h,w]\n",
    "# 创建1片数据，每片数据2个通道，3行4列\n",
    "e = torch.FloatTensor(2,2,3,4)  \n",
    "print(\"e:\",e)\n",
    "print(\"e:\",e.type())"
   ]
  },
  {
   "cell_type": "code",
   "execution_count": 8,
   "metadata": {},
   "outputs": [
    {
     "name": "stdout",
     "output_type": "stream",
     "text": [
      "f: tensor([2.0000, 3.2000])\n",
      "f: torch.FloatTensor\n"
     ]
    }
   ],
   "source": [
    "# 大写的tensor接受数据的维度，也可以接受现成的数据\n",
    "f = torch.FloatTensor([2.,3.2])  \n",
    "print(\"f:\",f)\n",
    "print(\"f:\",f.type())\n",
    "# 不推荐 torch.FloatTensor([2.,3.2]) = torch.tensor([2.,3.2])"
   ]
  },
  {
   "cell_type": "code",
   "execution_count": 9,
   "metadata": {},
   "outputs": [
    {
     "name": "stdout",
     "output_type": "stream",
     "text": [
      "g: tensor([[0., 0., 0.],\n",
      "        [0., 0., 0.]])\n",
      "g: torch.FloatTensor\n"
     ]
    }
   ],
   "source": [
    "# 创建2*3的空数组，空数据中的值并不为0，而是未初始化的垃圾值，这些值非常随机。\n",
    "g = torch.empty((2,3))  \n",
    "print(\"g:\",g)\n",
    "print(\"g:\",g.type())"
   ]
  },
  {
   "cell_type": "code",
   "execution_count": 10,
   "metadata": {},
   "outputs": [
    {
     "name": "stdout",
     "output_type": "stream",
     "text": [
      "set_default_tensor_type: torch.DoubleTensor\n",
      "tensor(1.)\n",
      "type torch.DoubleTensor\n"
     ]
    }
   ],
   "source": [
    "\n",
    "# 未初始化的tensor一定要跟写入数据的后续步骤\n",
    "# 增强学习一般使用double，其他一般使用float\n",
    "torch.set_default_tensor_type(torch.DoubleTensor)\n",
    "print(\"set_default_tensor_type:\",torch.tensor([1.2,3]).type())\n",
    "print(torch.tensor(1.))\n",
    "print(\"type\",torch.tensor(1.).type())"
   ]
  },
  {
   "cell_type": "code",
   "execution_count": 11,
   "metadata": {},
   "outputs": [
    {
     "name": "stdout",
     "output_type": "stream",
     "text": [
      "torch.rand: tensor([[4.5408, 1.3240, 9.3553],\n",
      "        [9.6625, 2.3309, 2.1998],\n",
      "        [6.9066, 4.8293, 3.6077]])\n",
      "torch.rand_like: tensor([[0.1560, 0.0928, 0.0979],\n",
      "        [0.9117, 0.4084, 0.8880],\n",
      "        [0.5676, 0.9840, 0.7720]])\n",
      "torch.randint: tensor([[4, 8, 3],\n",
      "        [3, 3, 5],\n",
      "        [8, 3, 9]])\n"
     ]
    }
   ],
   "source": [
    "# 均匀采样0-10的TENSOR，要用x = 10*torch.rand(d1,d2)，randint只能采样整数额\n",
    "# rand/rand_like,randint\n",
    "h = 10 * torch.rand(3,3)  # 正态分布，N(0,1)，mean为0，std为1\n",
    "print(\"torch.rand:\",h)\n",
    "print(\"torch.rand_like:\",torch.rand_like(h))\n",
    "print(\"torch.randint:\",torch.randint(1,10,[3,3]))"
   ]
  },
  {
   "cell_type": "code",
   "execution_count": 12,
   "metadata": {},
   "outputs": [
    {
     "name": "stdout",
     "output_type": "stream",
     "text": [
      "normal: tensor([ 0.1456,  0.9674, -1.1302,  0.7635, -1.1897, -0.4885, -0.2525,  0.1764,\n",
      "        -0.1095, -0.2154])\n",
      "生成一个值全为10的tensor: tensor([0., 0., 0., 0., 0., 0., 0., 0., 0., 0.])\n",
      "生成一个等差数列: tensor([1.0000, 0.9000, 0.8000, 0.7000, 0.6000, 0.5000, 0.4000, 0.3000, 0.2000,\n",
      "        0.1000])\n",
      "生成一个标量: tensor(2.) ,dim: 0 ,size: torch.Size([])\n",
      "生成一个向量: tensor([2.]) ,dim: 1 ,size: torch.Size([1])\n"
     ]
    }
   ],
   "source": [
    "# 自定义均值和方差\n",
    "j = torch.normal(mean=torch.full([10],0),std=torch.arange(1,0,-0.1))\n",
    "print(\"normal:\",j)\n",
    "print(\"生成一个值全为10的tensor:\",torch.full([10],0))\n",
    "print(\"生成一个等差数列:\",torch.arange(1,0,-0.1))  # arange不包含右边界，左闭右开[1,0)\n",
    "print(\"生成一个标量:\",torch.full([], 2),\",dim:\",torch.full([], 2).dim(),\",size:\",torch.full([], 2).size())\n",
    "print(\"生成一个向量:\",torch.full([1], 2),\",dim:\",torch.full([1], 2).dim(),\",size:\",torch.full([1], 2).size())"
   ]
  },
  {
   "cell_type": "code",
   "execution_count": 13,
   "metadata": {},
   "outputs": [
    {
     "name": "stdout",
     "output_type": "stream",
     "text": [
      "tensor([0, 1, 2, 3, 4, 5, 6, 7, 8, 9])\n",
      "tensor([0, 2, 4, 6, 8])\n",
      "tensor([ 0.,  1.,  2.,  3.,  4.,  5.,  6.,  7.,  8.,  9., 10.])\n"
     ]
    },
    {
     "name": "stderr",
     "output_type": "stream",
     "text": [
      "D:\\ProgramData\\Anaconda3\\envs\\LearningProjects\\lib\\site-packages\\ipykernel_launcher.py:4: UserWarning: torch.range is deprecated in favor of torch.arange and will be removed in 0.5. Note that arange generates values in [start; end), not [start; end].\n",
      "  after removing the cwd from sys.path.\n"
     ]
    }
   ],
   "source": [
    "# 等差数列\n",
    "print(torch.arange(0,10))\n",
    "print(torch.arange(0,10,2))\n",
    "print(torch.range(0,10))  # 可以使用arange代替"
   ]
  },
  {
   "cell_type": "code",
   "execution_count": 14,
   "metadata": {},
   "outputs": [
    {
     "name": "stdout",
     "output_type": "stream",
     "text": [
      "tensor([ 0.0000,  3.3333,  6.6667, 10.0000])\n",
      "tensor([ 0.0000,  1.1111,  2.2222,  3.3333,  4.4444,  5.5556,  6.6667,  7.7778,\n",
      "         8.8889, 10.0000])\n",
      "tensor([ 0.,  1.,  2.,  3.,  4.,  5.,  6.,  7.,  8.,  9., 10.])\n"
     ]
    }
   ],
   "source": [
    "# linspace/logspace\n",
    "print(torch.linspace(0,10,steps=4))  # [0,10]\n",
    "print(torch.linspace(0,10,steps=10))\n",
    "print(torch.linspace(0,10,steps=11))"
   ]
  },
  {
   "cell_type": "code",
   "execution_count": 15,
   "metadata": {},
   "outputs": [
    {
     "name": "stdout",
     "output_type": "stream",
     "text": [
      "tensor([1.0000, 0.7743, 0.5995, 0.4642, 0.3594, 0.2783, 0.2154, 0.1668, 0.1292,\n",
      "        0.1000])\n"
     ]
    }
   ],
   "source": [
    "# logspace的base参数可以设置为2，10，e等底数\n",
    "print(torch.logspace(0,-1,steps=10))  # 10^0,10^x,......10^-1"
   ]
  },
  {
   "cell_type": "code",
   "execution_count": 16,
   "metadata": {},
   "outputs": [
    {
     "name": "stdout",
     "output_type": "stream",
     "text": [
      "tensor([[1., 1., 1.],\n",
      "        [1., 1., 1.],\n",
      "        [1., 1., 1.]])\n",
      "tensor([[0., 0., 0.],\n",
      "        [0., 0., 0.],\n",
      "        [0., 0., 0.]])\n",
      "tensor([[1., 0., 0., 0.],\n",
      "        [0., 1., 0., 0.],\n",
      "        [0., 0., 1., 0.],\n",
      "        [0., 0., 0., 1.]])\n",
      "tensor([[1., 0., 0., 0.],\n",
      "        [0., 1., 0., 0.],\n",
      "        [0., 0., 1., 0.],\n",
      "        [0., 0., 0., 1.]])\n",
      "l: tensor([[1., 1., 1.],\n",
      "        [1., 1., 1.],\n",
      "        [1., 1., 1.]])\n"
     ]
    }
   ],
   "source": [
    "# ones/zeros/eye\n",
    "print(torch.ones(3,3))  # 3x3矩阵元素全是1\n",
    "print(torch.zeros(3,3))  # 3x3矩阵元素全是0\n",
    "print(torch.eye(4,4))  # 4x4对角矩阵元素是1\n",
    "print(torch.eye(4))\n",
    "l = torch.zeros(3,3)\n",
    "print(\"l:\",torch.ones_like(l))"
   ]
  },
  {
   "cell_type": "code",
   "execution_count": 17,
   "metadata": {},
   "outputs": [
    {
     "name": "stdout",
     "output_type": "stream",
     "text": [
      "randperm: tensor([9, 0, 2, 7, 4, 1, 8, 5, 6, 3])\n",
      "idx: tensor([0, 1])\n",
      "idx: tensor([0, 1])\n",
      "n[idx]: tensor([[0.8147, 0.7831, 0.0456],\n",
      "        [0.5734, 0.4782, 0.6875]])\n",
      "m[idx]: tensor([[0.4919, 0.5207],\n",
      "        [0.0426, 0.8168]])\n"
     ]
    }
   ],
   "source": [
    "# randperm , random.shuffle\n",
    "print(\"randperm:\",torch.randperm(10)) # [0,9)\n",
    "n = torch.rand(2,3)\n",
    "m = torch.rand(2,2)\n",
    "idx = torch.randperm(2)\n",
    "idx\n",
    "print(\"idx:\",idx)\n",
    "idx\n",
    "print(\"idx:\",idx)\n",
    "\n",
    "print(\"n[idx]:\",n[idx])\n",
    "print(\"m[idx]:\",m[idx])"
   ]
  },
  {
   "cell_type": "code",
   "execution_count": null,
   "metadata": {},
   "outputs": [],
   "source": []
  }
 ],
 "metadata": {
  "kernelspec": {
   "display_name": "Python 3",
   "language": "python",
   "name": "python3"
  },
  "language_info": {
   "codemirror_mode": {
    "name": "ipython",
    "version": 3
   },
   "file_extension": ".py",
   "mimetype": "text/x-python",
   "name": "python",
   "nbconvert_exporter": "python",
   "pygments_lexer": "ipython3",
   "version": "3.7.6"
  }
 },
 "nbformat": 4,
 "nbformat_minor": 4
}
